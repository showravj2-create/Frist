{
  "nbformat": 4,
  "nbformat_minor": 0,
  "metadata": {
    "colab": {
      "provenance": [],
      "authorship_tag": "ABX9TyN2q96z/9n5XrLtFX/s/kqj",
      "include_colab_link": true
    },
    "kernelspec": {
      "name": "python3",
      "display_name": "Python 3"
    },
    "language_info": {
      "name": "python"
    }
  },
  "cells": [
    {
      "cell_type": "markdown",
      "metadata": {
        "id": "view-in-github",
        "colab_type": "text"
      },
      "source": [
        "<a href=\"https://colab.research.google.com/github/showravj2-create/Frist/blob/main/Parallel_Processing_test.ipynb\" target=\"_parent\"><img src=\"https://colab.research.google.com/assets/colab-badge.svg\" alt=\"Open In Colab\"/></a>"
      ]
    },
    {
      "cell_type": "code",
      "execution_count": null,
      "metadata": {
        "colab": {
          "base_uri": "https://localhost:8080/"
        },
        "id": "e2H2xpayZycz",
        "outputId": "0731fe40-2eb2-4967-ff61-52c44fc2978a"
      },
      "outputs": [
        {
          "output_type": "stream",
          "name": "stdout",
          "text": [
            "Normal execution time: 0.18868374824523926\n",
            "Parallel execution time: 0.7379922866821289\n"
          ]
        }
      ],
      "source": [
        "from multiprocessing import Pool\n",
        "import time\n",
        "\n",
        "def square(x):\n",
        "    return x * x\n",
        "\n",
        "if __name__ == '__main__':\n",
        "    numbers = list(range(1000000))\n",
        "\n",
        "    # Normal execution\n",
        "    start = time.time()\n",
        "    [square(n) for n in numbers]\n",
        "    print(\"Normal execution time:\", time.time() - start)\n",
        "\n",
        "    # Parallel execution\n",
        "    start = time.time()\n",
        "    with Pool() as p:\n",
        "        p.map(square, numbers)\n",
        "    print(\"Parallel execution time:\", time.time() - start)"
      ]
    }
  ]
}