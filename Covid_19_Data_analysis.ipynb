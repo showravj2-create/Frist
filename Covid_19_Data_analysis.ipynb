{
  "nbformat": 4,
  "nbformat_minor": 0,
  "metadata": {
    "colab": {
      "provenance": [],
      "authorship_tag": "ABX9TyO46CbgnPlACEpcfDQMPgOJ",
      "include_colab_link": true
    },
    "kernelspec": {
      "name": "python3",
      "display_name": "Python 3"
    },
    "language_info": {
      "name": "python"
    }
  },
  "cells": [
    {
      "cell_type": "markdown",
      "metadata": {
        "id": "view-in-github",
        "colab_type": "text"
      },
      "source": [
        "<a href=\"https://colab.research.google.com/github/showravj2-create/Frist/blob/main/Covid_19_Data_analysis.ipynb\" target=\"_parent\"><img src=\"https://colab.research.google.com/assets/colab-badge.svg\" alt=\"Open In Colab\"/></a>"
      ]
    },
    {
      "cell_type": "code",
      "execution_count": null,
      "metadata": {
        "colab": {
          "base_uri": "https://localhost:8080/",
          "height": 106
        },
        "collapsed": true,
        "id": "b8YDbavMWYw5",
        "outputId": "d67b7a89-e3d4-4e66-daff-16e00d7c94e8"
      },
      "outputs": [
        {
          "output_type": "error",
          "ename": "IndentationError",
          "evalue": "unexpected indent (ipython-input-4242637551.py, line 9)",
          "traceback": [
            "\u001b[0;36m  File \u001b[0;32m\"/tmp/ipython-input-4242637551.py\"\u001b[0;36m, line \u001b[0;32m9\u001b[0m\n\u001b[0;31m    print(\"Top 5 countries by total COVID-19 cases and deaths (latest):\")\u001b[0m\n\u001b[0m    ^\u001b[0m\n\u001b[0;31mIndentationError\u001b[0m\u001b[0;31m:\u001b[0m unexpected indent\n"
          ]
        }
      ],
      "source": [
        "import pandas as pd\n",
        "\n",
        "# Load the compact COVID-19 dataset\n",
        "url = \"https://covid.ourworldindata.org/data/latest/owid-covid-latest.csv\"\n",
        "df = pd.read_csv(url)\n",
        "# Show top 5 countries by total cases\n",
        "top = df[['location', 'total_cases', 'total_deaths']].dropna().sort_values(\n",
        "    by=\"total_cases\", ascending=False).head(5)\n",
        "    print(\"Top 5 countries by total COVID-19 cases and deaths (latest):\")\n",
        "    print(top.to_string(index=False))"
      ]
    }
  ]
}